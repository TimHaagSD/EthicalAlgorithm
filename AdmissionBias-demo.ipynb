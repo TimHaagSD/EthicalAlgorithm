{
 "cells": [
  {
   "cell_type": "code",
   "execution_count": 1,
   "metadata": {},
   "outputs": [],
   "source": [
    "import matplotlib.pyplot as plt \n",
    "import numpy as np \n",
    "from sklearn import linear_model\n",
    "from sklearn.metrics import confusion_matrix\n",
    "from sklearn.metrics import accuracy_score, f1_score\n",
    "from sklearn.metrics import plot_confusion_matrix\n",
    "import pandas as pd\n",
    "import xlrd"
   ]
  },
  {
   "cell_type": "code",
   "execution_count": 2,
   "metadata": {},
   "outputs": [],
   "source": [
    "##data = pd.read_excel('C:\\\\Users\\\\tim.haag\\\\Desktop\\\\EthicalAlgo\\\\Admission_Bias.xlsx', sheet_name = 'importb')\n",
    "data = pd.read_excel('Admission_Bias.xlsx', sheet_name = 'importb')"
   ]
  },
  {
   "cell_type": "code",
   "execution_count": 3,
   "metadata": {},
   "outputs": [
    {
     "data": {
      "text/html": [
       "<div>\n",
       "<style scoped>\n",
       "    .dataframe tbody tr th:only-of-type {\n",
       "        vertical-align: middle;\n",
       "    }\n",
       "\n",
       "    .dataframe tbody tr th {\n",
       "        vertical-align: top;\n",
       "    }\n",
       "\n",
       "    .dataframe thead th {\n",
       "        text-align: right;\n",
       "    }\n",
       "</style>\n",
       "<table border=\"1\" class=\"dataframe\">\n",
       "  <thead>\n",
       "    <tr style=\"text-align: right;\">\n",
       "      <th></th>\n",
       "      <th>ID</th>\n",
       "      <th>Race</th>\n",
       "      <th>SAT</th>\n",
       "      <th>GPA</th>\n",
       "      <th>Trip_To_Europe</th>\n",
       "      <th>Graduate</th>\n",
       "    </tr>\n",
       "  </thead>\n",
       "  <tbody>\n",
       "    <tr>\n",
       "      <th>0</th>\n",
       "      <td>1</td>\n",
       "      <td>Black</td>\n",
       "      <td>993.0</td>\n",
       "      <td>3.494</td>\n",
       "      <td>0</td>\n",
       "      <td>1</td>\n",
       "    </tr>\n",
       "    <tr>\n",
       "      <th>1</th>\n",
       "      <td>2</td>\n",
       "      <td>Black</td>\n",
       "      <td>984.0</td>\n",
       "      <td>3.528</td>\n",
       "      <td>1</td>\n",
       "      <td>1</td>\n",
       "    </tr>\n",
       "    <tr>\n",
       "      <th>2</th>\n",
       "      <td>3</td>\n",
       "      <td>Black</td>\n",
       "      <td>1065.0</td>\n",
       "      <td>3.902</td>\n",
       "      <td>0</td>\n",
       "      <td>1</td>\n",
       "    </tr>\n",
       "    <tr>\n",
       "      <th>3</th>\n",
       "      <td>4</td>\n",
       "      <td>Black</td>\n",
       "      <td>930.0</td>\n",
       "      <td>3.664</td>\n",
       "      <td>0</td>\n",
       "      <td>1</td>\n",
       "    </tr>\n",
       "    <tr>\n",
       "      <th>4</th>\n",
       "      <td>5</td>\n",
       "      <td>Black</td>\n",
       "      <td>984.0</td>\n",
       "      <td>4.072</td>\n",
       "      <td>0</td>\n",
       "      <td>1</td>\n",
       "    </tr>\n",
       "  </tbody>\n",
       "</table>\n",
       "</div>"
      ],
      "text/plain": [
       "   ID   Race     SAT    GPA  Trip_To_Europe  Graduate\n",
       "0   1  Black   993.0  3.494               0         1\n",
       "1   2  Black   984.0  3.528               1         1\n",
       "2   3  Black  1065.0  3.902               0         1\n",
       "3   4  Black   930.0  3.664               0         1\n",
       "4   5  Black   984.0  4.072               0         1"
      ]
     },
     "execution_count": 3,
     "metadata": {},
     "output_type": "execute_result"
    }
   ],
   "source": [
    "data.head()"
   ]
  },
  {
   "cell_type": "code",
   "execution_count": 4,
   "metadata": {},
   "outputs": [
    {
     "data": {
      "text/html": [
       "<div>\n",
       "<style scoped>\n",
       "    .dataframe tbody tr th:only-of-type {\n",
       "        vertical-align: middle;\n",
       "    }\n",
       "\n",
       "    .dataframe tbody tr th {\n",
       "        vertical-align: top;\n",
       "    }\n",
       "\n",
       "    .dataframe thead th {\n",
       "        text-align: right;\n",
       "    }\n",
       "</style>\n",
       "<table border=\"1\" class=\"dataframe\">\n",
       "  <thead>\n",
       "    <tr style=\"text-align: right;\">\n",
       "      <th></th>\n",
       "      <th>ID</th>\n",
       "      <th>SAT</th>\n",
       "      <th>GPA</th>\n",
       "      <th>Trip_To_Europe</th>\n",
       "      <th>Graduate</th>\n",
       "    </tr>\n",
       "  </thead>\n",
       "  <tbody>\n",
       "    <tr>\n",
       "      <th>count</th>\n",
       "      <td>200.000000</td>\n",
       "      <td>200.000000</td>\n",
       "      <td>200.000000</td>\n",
       "      <td>200.000000</td>\n",
       "      <td>200.000000</td>\n",
       "    </tr>\n",
       "    <tr>\n",
       "      <th>mean</th>\n",
       "      <td>100.500000</td>\n",
       "      <td>913.515000</td>\n",
       "      <td>3.557160</td>\n",
       "      <td>2.045000</td>\n",
       "      <td>0.500000</td>\n",
       "    </tr>\n",
       "    <tr>\n",
       "      <th>std</th>\n",
       "      <td>57.879185</td>\n",
       "      <td>115.743347</td>\n",
       "      <td>0.437455</td>\n",
       "      <td>1.765947</td>\n",
       "      <td>0.501255</td>\n",
       "    </tr>\n",
       "    <tr>\n",
       "      <th>min</th>\n",
       "      <td>1.000000</td>\n",
       "      <td>720.000000</td>\n",
       "      <td>2.720000</td>\n",
       "      <td>0.000000</td>\n",
       "      <td>0.000000</td>\n",
       "    </tr>\n",
       "    <tr>\n",
       "      <th>25%</th>\n",
       "      <td>50.750000</td>\n",
       "      <td>803.250000</td>\n",
       "      <td>3.196000</td>\n",
       "      <td>1.000000</td>\n",
       "      <td>0.000000</td>\n",
       "    </tr>\n",
       "    <tr>\n",
       "      <th>50%</th>\n",
       "      <td>100.500000</td>\n",
       "      <td>918.000000</td>\n",
       "      <td>3.549000</td>\n",
       "      <td>2.000000</td>\n",
       "      <td>0.500000</td>\n",
       "    </tr>\n",
       "    <tr>\n",
       "      <th>75%</th>\n",
       "      <td>150.250000</td>\n",
       "      <td>1003.500000</td>\n",
       "      <td>3.868000</td>\n",
       "      <td>3.000000</td>\n",
       "      <td>1.000000</td>\n",
       "    </tr>\n",
       "    <tr>\n",
       "      <th>max</th>\n",
       "      <td>200.000000</td>\n",
       "      <td>1110.000000</td>\n",
       "      <td>4.480000</td>\n",
       "      <td>6.000000</td>\n",
       "      <td>1.000000</td>\n",
       "    </tr>\n",
       "  </tbody>\n",
       "</table>\n",
       "</div>"
      ],
      "text/plain": [
       "               ID          SAT         GPA  Trip_To_Europe    Graduate\n",
       "count  200.000000   200.000000  200.000000      200.000000  200.000000\n",
       "mean   100.500000   913.515000    3.557160        2.045000    0.500000\n",
       "std     57.879185   115.743347    0.437455        1.765947    0.501255\n",
       "min      1.000000   720.000000    2.720000        0.000000    0.000000\n",
       "25%     50.750000   803.250000    3.196000        1.000000    0.000000\n",
       "50%    100.500000   918.000000    3.549000        2.000000    0.500000\n",
       "75%    150.250000  1003.500000    3.868000        3.000000    1.000000\n",
       "max    200.000000  1110.000000    4.480000        6.000000    1.000000"
      ]
     },
     "execution_count": 4,
     "metadata": {},
     "output_type": "execute_result"
    }
   ],
   "source": [
    "data.describe()"
   ]
  },
  {
   "cell_type": "code",
   "execution_count": 7,
   "metadata": {},
   "outputs": [
    {
     "name": "stdout",
     "output_type": "stream",
     "text": [
      "White Student Statistics:\n"
     ]
    },
    {
     "data": {
      "text/html": [
       "<div>\n",
       "<style scoped>\n",
       "    .dataframe tbody tr th:only-of-type {\n",
       "        vertical-align: middle;\n",
       "    }\n",
       "\n",
       "    .dataframe tbody tr th {\n",
       "        vertical-align: top;\n",
       "    }\n",
       "\n",
       "    .dataframe thead th {\n",
       "        text-align: right;\n",
       "    }\n",
       "</style>\n",
       "<table border=\"1\" class=\"dataframe\">\n",
       "  <thead>\n",
       "    <tr style=\"text-align: right;\">\n",
       "      <th></th>\n",
       "      <th>ID</th>\n",
       "      <th>SAT</th>\n",
       "      <th>GPA</th>\n",
       "      <th>Trip_To_Europe</th>\n",
       "      <th>Graduate</th>\n",
       "    </tr>\n",
       "  </thead>\n",
       "  <tbody>\n",
       "    <tr>\n",
       "      <th>count</th>\n",
       "      <td>95.000000</td>\n",
       "      <td>95.000000</td>\n",
       "      <td>95.000000</td>\n",
       "      <td>95.000000</td>\n",
       "      <td>95.0</td>\n",
       "    </tr>\n",
       "    <tr>\n",
       "      <th>mean</th>\n",
       "      <td>58.000000</td>\n",
       "      <td>934.073684</td>\n",
       "      <td>3.758484</td>\n",
       "      <td>2.884211</td>\n",
       "      <td>1.0</td>\n",
       "    </tr>\n",
       "    <tr>\n",
       "      <th>std</th>\n",
       "      <td>27.568098</td>\n",
       "      <td>112.951151</td>\n",
       "      <td>0.396231</td>\n",
       "      <td>1.988601</td>\n",
       "      <td>0.0</td>\n",
       "    </tr>\n",
       "    <tr>\n",
       "      <th>min</th>\n",
       "      <td>11.000000</td>\n",
       "      <td>750.000000</td>\n",
       "      <td>3.120000</td>\n",
       "      <td>0.000000</td>\n",
       "      <td>1.0</td>\n",
       "    </tr>\n",
       "    <tr>\n",
       "      <th>25%</th>\n",
       "      <td>34.500000</td>\n",
       "      <td>835.500000</td>\n",
       "      <td>3.460000</td>\n",
       "      <td>1.000000</td>\n",
       "      <td>1.0</td>\n",
       "    </tr>\n",
       "    <tr>\n",
       "      <th>50%</th>\n",
       "      <td>58.000000</td>\n",
       "      <td>939.000000</td>\n",
       "      <td>3.732000</td>\n",
       "      <td>3.000000</td>\n",
       "      <td>1.0</td>\n",
       "    </tr>\n",
       "    <tr>\n",
       "      <th>75%</th>\n",
       "      <td>81.500000</td>\n",
       "      <td>1042.500000</td>\n",
       "      <td>4.123000</td>\n",
       "      <td>4.500000</td>\n",
       "      <td>1.0</td>\n",
       "    </tr>\n",
       "    <tr>\n",
       "      <th>max</th>\n",
       "      <td>105.000000</td>\n",
       "      <td>1110.000000</td>\n",
       "      <td>4.480000</td>\n",
       "      <td>6.000000</td>\n",
       "      <td>1.0</td>\n",
       "    </tr>\n",
       "  </tbody>\n",
       "</table>\n",
       "</div>"
      ],
      "text/plain": [
       "               ID          SAT        GPA  Trip_To_Europe  Graduate\n",
       "count   95.000000    95.000000  95.000000       95.000000      95.0\n",
       "mean    58.000000   934.073684   3.758484        2.884211       1.0\n",
       "std     27.568098   112.951151   0.396231        1.988601       0.0\n",
       "min     11.000000   750.000000   3.120000        0.000000       1.0\n",
       "25%     34.500000   835.500000   3.460000        1.000000       1.0\n",
       "50%     58.000000   939.000000   3.732000        3.000000       1.0\n",
       "75%     81.500000  1042.500000   4.123000        4.500000       1.0\n",
       "max    105.000000  1110.000000   4.480000        6.000000       1.0"
      ]
     },
     "metadata": {},
     "output_type": "display_data"
    },
    {
     "data": {
      "text/plain": [
       "(None, None)"
      ]
     },
     "execution_count": 7,
     "metadata": {},
     "output_type": "execute_result"
    }
   ],
   "source": [
    "print('White Student Statistics:'), display(data.loc[(data.Race == 'White') & (data.Graduate == 1)].describe())"
   ]
  },
  {
   "cell_type": "code",
   "execution_count": 8,
   "metadata": {},
   "outputs": [
    {
     "name": "stdout",
     "output_type": "stream",
     "text": [
      "Black Student Statistics:\n"
     ]
    },
    {
     "data": {
      "text/html": [
       "<div>\n",
       "<style scoped>\n",
       "    .dataframe tbody tr th:only-of-type {\n",
       "        vertical-align: middle;\n",
       "    }\n",
       "\n",
       "    .dataframe tbody tr th {\n",
       "        vertical-align: top;\n",
       "    }\n",
       "\n",
       "    .dataframe thead th {\n",
       "        text-align: right;\n",
       "    }\n",
       "</style>\n",
       "<table border=\"1\" class=\"dataframe\">\n",
       "  <thead>\n",
       "    <tr style=\"text-align: right;\">\n",
       "      <th></th>\n",
       "      <th>ID</th>\n",
       "      <th>SAT</th>\n",
       "      <th>GPA</th>\n",
       "      <th>Trip_To_Europe</th>\n",
       "      <th>Graduate</th>\n",
       "    </tr>\n",
       "  </thead>\n",
       "  <tbody>\n",
       "    <tr>\n",
       "      <th>count</th>\n",
       "      <td>5.000000</td>\n",
       "      <td>5.000000</td>\n",
       "      <td>5.000000</td>\n",
       "      <td>5.000000</td>\n",
       "      <td>5.0</td>\n",
       "    </tr>\n",
       "    <tr>\n",
       "      <th>mean</th>\n",
       "      <td>3.000000</td>\n",
       "      <td>991.200000</td>\n",
       "      <td>3.732000</td>\n",
       "      <td>0.200000</td>\n",
       "      <td>1.0</td>\n",
       "    </tr>\n",
       "    <tr>\n",
       "      <th>std</th>\n",
       "      <td>1.581139</td>\n",
       "      <td>48.215143</td>\n",
       "      <td>0.248689</td>\n",
       "      <td>0.447214</td>\n",
       "      <td>0.0</td>\n",
       "    </tr>\n",
       "    <tr>\n",
       "      <th>min</th>\n",
       "      <td>1.000000</td>\n",
       "      <td>930.000000</td>\n",
       "      <td>3.494000</td>\n",
       "      <td>0.000000</td>\n",
       "      <td>1.0</td>\n",
       "    </tr>\n",
       "    <tr>\n",
       "      <th>25%</th>\n",
       "      <td>2.000000</td>\n",
       "      <td>984.000000</td>\n",
       "      <td>3.528000</td>\n",
       "      <td>0.000000</td>\n",
       "      <td>1.0</td>\n",
       "    </tr>\n",
       "    <tr>\n",
       "      <th>50%</th>\n",
       "      <td>3.000000</td>\n",
       "      <td>984.000000</td>\n",
       "      <td>3.664000</td>\n",
       "      <td>0.000000</td>\n",
       "      <td>1.0</td>\n",
       "    </tr>\n",
       "    <tr>\n",
       "      <th>75%</th>\n",
       "      <td>4.000000</td>\n",
       "      <td>993.000000</td>\n",
       "      <td>3.902000</td>\n",
       "      <td>0.000000</td>\n",
       "      <td>1.0</td>\n",
       "    </tr>\n",
       "    <tr>\n",
       "      <th>max</th>\n",
       "      <td>5.000000</td>\n",
       "      <td>1065.000000</td>\n",
       "      <td>4.072000</td>\n",
       "      <td>1.000000</td>\n",
       "      <td>1.0</td>\n",
       "    </tr>\n",
       "  </tbody>\n",
       "</table>\n",
       "</div>"
      ],
      "text/plain": [
       "             ID          SAT       GPA  Trip_To_Europe  Graduate\n",
       "count  5.000000     5.000000  5.000000        5.000000       5.0\n",
       "mean   3.000000   991.200000  3.732000        0.200000       1.0\n",
       "std    1.581139    48.215143  0.248689        0.447214       0.0\n",
       "min    1.000000   930.000000  3.494000        0.000000       1.0\n",
       "25%    2.000000   984.000000  3.528000        0.000000       1.0\n",
       "50%    3.000000   984.000000  3.664000        0.000000       1.0\n",
       "75%    4.000000   993.000000  3.902000        0.000000       1.0\n",
       "max    5.000000  1065.000000  4.072000        1.000000       1.0"
      ]
     },
     "metadata": {},
     "output_type": "display_data"
    },
    {
     "data": {
      "text/plain": [
       "(None, None)"
      ]
     },
     "execution_count": 8,
     "metadata": {},
     "output_type": "execute_result"
    }
   ],
   "source": [
    " print('Black Student Statistics:'), display(data.loc[(data.Race == 'Black') & (data.Graduate == 1)].describe())"
   ]
  },
  {
   "cell_type": "code",
   "execution_count": 9,
   "metadata": {},
   "outputs": [],
   "source": [
    "y = data.Graduate\n",
    "feature_columns = ['SAT', 'GPA', 'Trip_To_Europe']\n",
    "X = data[feature_columns]"
   ]
  },
  {
   "cell_type": "code",
   "execution_count": 10,
   "metadata": {},
   "outputs": [],
   "source": [
    "regr = linear_model.LogisticRegression()"
   ]
  },
  {
   "cell_type": "code",
   "execution_count": 11,
   "metadata": {},
   "outputs": [
    {
     "data": {
      "text/plain": [
       "LogisticRegression()"
      ]
     },
     "execution_count": 11,
     "metadata": {},
     "output_type": "execute_result"
    }
   ],
   "source": [
    "regr.fit(X, y)"
   ]
  },
  {
   "cell_type": "code",
   "execution_count": 12,
   "metadata": {},
   "outputs": [],
   "source": [
    "y_pred = regr.predict(X)"
   ]
  },
  {
   "cell_type": "code",
   "execution_count": 13,
   "metadata": {},
   "outputs": [
    {
     "name": "stdout",
     "output_type": "stream",
     "text": [
      "Coefficients: \n",
      " [[0.00423217 2.26130804 0.52898912]]\n"
     ]
    }
   ],
   "source": [
    "# The coefficients\n",
    "print('Coefficients: \\n', regr.coef_)"
   ]
  },
  {
   "cell_type": "code",
   "execution_count": 14,
   "metadata": {},
   "outputs": [
    {
     "data": {
      "text/plain": [
       "array([[77, 23],\n",
       "       [23, 77]])"
      ]
     },
     "execution_count": 14,
     "metadata": {},
     "output_type": "execute_result"
    }
   ],
   "source": [
    "confusion_matrix(y, y_pred)"
   ]
  },
  {
   "cell_type": "code",
   "execution_count": 15,
   "metadata": {},
   "outputs": [
    {
     "data": {
      "text/plain": [
       "<sklearn.metrics._plot.confusion_matrix.ConfusionMatrixDisplay at 0x7f5f9424d550>"
      ]
     },
     "execution_count": 15,
     "metadata": {},
     "output_type": "execute_result"
    },
    {
     "data": {
      "image/png": "[encoded data removed]",
      "text/plain": [
       "<Figure size 432x288 with 2 Axes>"
      ]
     },
     "metadata": {
      "needs_background": "light"
     },
     "output_type": "display_data"
    }
   ],
   "source": [
    "plot_confusion_matrix(regr, X, y, cmap= 'binary')"
   ]
  },
  {
   "cell_type": "code",
   "execution_count": 17,
   "metadata": {},
   "outputs": [
    {
     "data": {
      "text/plain": [
       "('Accuracy is: 0.77', 'F1 score is: 0.7699999999999999')"
      ]
     },
     "execution_count": 17,
     "metadata": {},
     "output_type": "execute_result"
    }
   ],
   "source": [
    "\"Accuracy is: {}\".format(accuracy_score(y, y_pred)), \"F1 score is: {}\".format(f1_score(y, y_pred))"
   ]
  },
  {
   "cell_type": "code",
   "execution_count": 18,
   "metadata": {},
   "outputs": [],
   "source": [
    "data_with_pred = pd.concat([data, pd.DataFrame(y_pred, columns = ['Pred'])], axis = 1, sort = False)\n"
   ]
  },
  {
   "cell_type": "code",
   "execution_count": 19,
   "metadata": {},
   "outputs": [
    {
     "data": {
      "text/html": [
       "<div>\n",
       "<style scoped>\n",
       "    .dataframe tbody tr th:only-of-type {\n",
       "        vertical-align: middle;\n",
       "    }\n",
       "\n",
       "    .dataframe tbody tr th {\n",
       "        vertical-align: top;\n",
       "    }\n",
       "\n",
       "    .dataframe thead th {\n",
       "        text-align: right;\n",
       "    }\n",
       "</style>\n",
       "<table border=\"1\" class=\"dataframe\">\n",
       "  <thead>\n",
       "    <tr style=\"text-align: right;\">\n",
       "      <th></th>\n",
       "      <th>ID</th>\n",
       "      <th>Race</th>\n",
       "      <th>SAT</th>\n",
       "      <th>GPA</th>\n",
       "      <th>Trip_To_Europe</th>\n",
       "      <th>Graduate</th>\n",
       "      <th>Pred</th>\n",
       "    </tr>\n",
       "  </thead>\n",
       "  <tbody>\n",
       "    <tr>\n",
       "      <th>0</th>\n",
       "      <td>1</td>\n",
       "      <td>Black</td>\n",
       "      <td>993.0</td>\n",
       "      <td>3.494</td>\n",
       "      <td>0</td>\n",
       "      <td>1</td>\n",
       "      <td>0</td>\n",
       "    </tr>\n",
       "    <tr>\n",
       "      <th>1</th>\n",
       "      <td>2</td>\n",
       "      <td>Black</td>\n",
       "      <td>984.0</td>\n",
       "      <td>3.528</td>\n",
       "      <td>1</td>\n",
       "      <td>1</td>\n",
       "      <td>0</td>\n",
       "    </tr>\n",
       "    <tr>\n",
       "      <th>2</th>\n",
       "      <td>3</td>\n",
       "      <td>Black</td>\n",
       "      <td>1065.0</td>\n",
       "      <td>3.902</td>\n",
       "      <td>0</td>\n",
       "      <td>1</td>\n",
       "      <td>1</td>\n",
       "    </tr>\n",
       "    <tr>\n",
       "      <th>3</th>\n",
       "      <td>4</td>\n",
       "      <td>Black</td>\n",
       "      <td>930.0</td>\n",
       "      <td>3.664</td>\n",
       "      <td>0</td>\n",
       "      <td>1</td>\n",
       "      <td>0</td>\n",
       "    </tr>\n",
       "    <tr>\n",
       "      <th>4</th>\n",
       "      <td>5</td>\n",
       "      <td>Black</td>\n",
       "      <td>984.0</td>\n",
       "      <td>4.072</td>\n",
       "      <td>0</td>\n",
       "      <td>1</td>\n",
       "      <td>1</td>\n",
       "    </tr>\n",
       "    <tr>\n",
       "      <th>5</th>\n",
       "      <td>6</td>\n",
       "      <td>Black</td>\n",
       "      <td>1080.0</td>\n",
       "      <td>2.754</td>\n",
       "      <td>0</td>\n",
       "      <td>0</td>\n",
       "      <td>0</td>\n",
       "    </tr>\n",
       "    <tr>\n",
       "      <th>6</th>\n",
       "      <td>7</td>\n",
       "      <td>Black</td>\n",
       "      <td>981.0</td>\n",
       "      <td>2.992</td>\n",
       "      <td>1</td>\n",
       "      <td>0</td>\n",
       "      <td>0</td>\n",
       "    </tr>\n",
       "    <tr>\n",
       "      <th>7</th>\n",
       "      <td>8</td>\n",
       "      <td>Black</td>\n",
       "      <td>1071.0</td>\n",
       "      <td>3.910</td>\n",
       "      <td>0</td>\n",
       "      <td>0</td>\n",
       "      <td>1</td>\n",
       "    </tr>\n",
       "    <tr>\n",
       "      <th>8</th>\n",
       "      <td>9</td>\n",
       "      <td>Black</td>\n",
       "      <td>909.0</td>\n",
       "      <td>2.754</td>\n",
       "      <td>0</td>\n",
       "      <td>0</td>\n",
       "      <td>0</td>\n",
       "    </tr>\n",
       "    <tr>\n",
       "      <th>9</th>\n",
       "      <td>10</td>\n",
       "      <td>Black</td>\n",
       "      <td>882.0</td>\n",
       "      <td>2.754</td>\n",
       "      <td>0</td>\n",
       "      <td>0</td>\n",
       "      <td>0</td>\n",
       "    </tr>\n",
       "  </tbody>\n",
       "</table>\n",
       "</div>"
      ],
      "text/plain": [
       "   ID   Race     SAT    GPA  Trip_To_Europe  Graduate  Pred\n",
       "0   1  Black   993.0  3.494               0         1     0\n",
       "1   2  Black   984.0  3.528               1         1     0\n",
       "2   3  Black  1065.0  3.902               0         1     1\n",
       "3   4  Black   930.0  3.664               0         1     0\n",
       "4   5  Black   984.0  4.072               0         1     1\n",
       "5   6  Black  1080.0  2.754               0         0     0\n",
       "6   7  Black   981.0  2.992               1         0     0\n",
       "7   8  Black  1071.0  3.910               0         0     1\n",
       "8   9  Black   909.0  2.754               0         0     0\n",
       "9  10  Black   882.0  2.754               0         0     0"
      ]
     },
     "execution_count": 19,
     "metadata": {},
     "output_type": "execute_result"
    }
   ],
   "source": [
    "data_with_pred.head(10)"
   ]
  },
  {
   "cell_type": "code",
   "execution_count": 20,
   "metadata": {},
   "outputs": [],
   "source": [
    "pivot = pd.pivot_table(data_with_pred, values='Pred', columns=['Race'], aggfunc= [np.sum, len])"
   ]
  },
  {
   "cell_type": "code",
   "execution_count": 21,
   "metadata": {},
   "outputs": [
    {
     "name": "stdout",
     "output_type": "stream",
     "text": [
      "Black Students Admitted: 30%\n",
      "White Students Admitted: 51%\n"
     ]
    }
   ],
   "source": [
    "print(\"Black Students Admitted: {}\".format(\"{0:.0%}\".format(pivot['sum']['Black'][0]/pivot['len']['Black'][0])))\n",
    "print(\"White Students Admitted: {}\".format(\"{0:.0%}\".format(pivot['sum']['White'][0]/pivot['len']['White'][0])))"
   ]
  },
  {
   "cell_type": "code",
   "execution_count": 22,
   "metadata": {},
   "outputs": [
    {
     "data": {
      "text/plain": [
       "3"
      ]
     },
     "execution_count": 22,
     "metadata": {},
     "output_type": "execute_result"
    }
   ],
   "source": [
    "pivot['sum']['Black'][0]"
   ]
  },
  {
   "cell_type": "code",
   "execution_count": 23,
   "metadata": {},
   "outputs": [],
   "source": [
    "dw, db = data.loc[(data.Race == 'White')], data.loc[(data.Race == 'Black')]"
   ]
  },
  {
   "cell_type": "code",
   "execution_count": 24,
   "metadata": {},
   "outputs": [],
   "source": [
    "dwy = dw.Graduate\n",
    "dwX = dw[feature_columns]\n",
    "dby = db.Graduate\n",
    "dbX = db[feature_columns]"
   ]
  },
  {
   "cell_type": "code",
   "execution_count": 25,
   "metadata": {},
   "outputs": [],
   "source": [
    "regrw = linear_model.LogisticRegression()\n",
    "regrw.fit(dwX, dwy)\n",
    "wy_pred = regrw.predict(dwX)\n",
    "regrb = linear_model.LogisticRegression()\n",
    "regrb.fit(dbX, dby)\n",
    "by_pred = regrb.predict(dbX)"
   ]
  },
  {
   "cell_type": "code",
   "execution_count": 26,
   "metadata": {},
   "outputs": [
    {
     "name": "stdout",
     "output_type": "stream",
     "text": [
      "Accuracy is: 0.77 F1 score is: 0.7699999999999999\n",
      "Accuracy is: 0.7736842105263158 F1 score is: 0.7724867724867724\n",
      "Accuracy is: 0.9 F1 score is: 0.9090909090909091\n"
     ]
    }
   ],
   "source": [
    "print(\"Accuracy is: {}\".format(accuracy_score(y, y_pred)), \"F1 score is: {}\".format(f1_score(y, y_pred)))\n",
    "print(\"Accuracy is: {}\".format(accuracy_score(dwy, wy_pred)), \"F1 score is: {}\".format(f1_score(dwy, wy_pred)))\n",
    "print(\"Accuracy is: {}\".format(accuracy_score(dby, by_pred)), \"F1 score is: {}\".format(f1_score(dby, by_pred)))"
   ]
  },
  {
   "cell_type": "code",
   "execution_count": 27,
   "metadata": {},
   "outputs": [],
   "source": [
    "data_with_pred_w = pd.concat([dw.reset_index(drop=True), pd.DataFrame(wy_pred, columns = ['Pred']).reset_index(drop=True)], axis = 1, sort = False)\n",
    "data_with_pred_b = pd.concat([db.reset_index(drop=True), pd.DataFrame(by_pred, columns = ['Pred']).reset_index(drop=True)], axis = 1, sort = False)"
   ]
  },
  {
   "cell_type": "code",
   "execution_count": 28,
   "metadata": {},
   "outputs": [],
   "source": [
    "merged = pd.concat([data_with_pred_w, data_with_pred_b])"
   ]
  },
  {
   "cell_type": "code",
   "execution_count": 29,
   "metadata": {},
   "outputs": [
    {
     "data": {
      "text/plain": [
       "Index(['ID', 'Race', 'SAT', 'GPA', 'Trip_To_Europe', 'Graduate', 'Pred'], dtype='object')"
      ]
     },
     "execution_count": 29,
     "metadata": {},
     "output_type": "execute_result"
    }
   ],
   "source": [
    "merged.columns"
   ]
  },
  {
   "cell_type": "code",
   "execution_count": 31,
   "metadata": {},
   "outputs": [],
   "source": [
    "pivot2 = pd.pivot_table(merged, values='Pred', columns=['Race'], aggfunc= [np.sum, len])"
   ]
  },
  {
   "cell_type": "code",
   "execution_count": 32,
   "metadata": {},
   "outputs": [
    {
     "name": "stdout",
     "output_type": "stream",
     "text": [
      "Black Students Admitted: 60%\n",
      "White Students Admitted: 49%\n"
     ]
    }
   ],
   "source": [
    "print(\"Black Students Admitted: {}\".format(\"{0:.0%}\".format(pivot2['sum']['Black'][0]/pivot2['len']['Black'][0])))\n",
    "print(\"White Students Admitted: {}\".format(\"{0:.0%}\".format(pivot2['sum']['White'][0]/pivot2['len']['White'][0])))"
   ]
  },
  {
   "cell_type": "code",
   "execution_count": 33,
   "metadata": {},
   "outputs": [
    {
     "name": "stdout",
     "output_type": "stream",
     "text": [
      "Combined Model Accuracy is: 0.77 F1 score is: 0.7699999999999999\n",
      "Separate Model Accuracy is: 0.78 F1 score is: 0.78\n"
     ]
    }
   ],
   "source": [
    "print(\"Combined Model Accuracy is: {}\".format(accuracy_score(y, y_pred)), \"F1 score is: {}\".format(f1_score(y, y_pred)))\n",
    "print(\"Separate Model Accuracy is: {}\".format(accuracy_score(merged.Graduate, merged.Pred)), \"F1 score is: {}\".format(f1_score(merged.Graduate, merged.Pred)))"
   ]
  },
  {
   "cell_type": "code",
   "execution_count": null,
   "metadata": {},
   "outputs": [],
   "source": []
  }
 ],
 "metadata": {
  "kernelspec": {
   "display_name": "Python 3",
   "language": "python",
   "name": "python3"
  },
  "language_info": {
   "codemirror_mode": {
    "name": "ipython",
    "version": 3
   },
   "file_extension": ".py",
   "mimetype": "text/x-python",
   "name": "python",
   "nbconvert_exporter": "python",
   "pygments_lexer": "ipython3",
   "version": "3.7.6"
  }
 },
 "nbformat": 4,
 "nbformat_minor": 4
}
